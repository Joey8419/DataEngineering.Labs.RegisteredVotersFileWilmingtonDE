{
  "cells": [
    {
      "cell_type": "markdown",
      "metadata": {
        "tags": [
          "show_line_numbers"
        ]
      },
      "source": [
        "Import numpy and pandas."
      ],
      "id": "a88bb743"
    },
    {
      "cell_type": "code",
      "execution_count": null,
      "metadata": {
        "noteable": {
          "output_collection_id": "2ee649f9-f35e-44b2-b965-97b252b388d7"
        },
        "ExecuteTime": {
          "end_time": "2023-12-04T19:52:24.033507+00:00",
          "start_time": "2023-12-04T19:52:23.878914+00:00"
        },
        "tags": [
          "show_line_numbers"
        ]
      },
      "outputs": [],
      "source": [
        "import pandas as pd\n",
        "import numpy as np"
      ],
      "id": "535ace82"
    },
    {
      "cell_type": "markdown",
      "metadata": {
        "tags": [
          "show_line_numbers"
        ]
      },
      "source": [
        "Using the bash magic command, view the list of files inside of the data directory."
      ],
      "id": "9969e647"
    },
    {
      "cell_type": "code",
      "execution_count": null,
      "metadata": {
        "noteable": {
          "output_collection_id": "1598c0a6-43a8-493d-bdad-324a3212a6b4"
        },
        "ExecuteTime": {
          "end_time": "2023-12-04T19:52:25.944134+00:00",
          "start_time": "2023-12-04T19:52:25.776261+00:00"
        },
        "jupyter": {
          "outputs_hidden": false,
          "source_hidden": false
        },
        "tags": [
          "show_line_numbers"
        ]
      },
      "outputs": [],
      "source": "%%bash\ncd data\nls",
      "id": "184ebece"
    },
    {
      "cell_type": "markdown",
      "metadata": {
        "tags": [
          "show_line_numbers"
        ]
      },
      "source": [
        "Load the csv file into a Pandas DataFrame."
      ],
      "id": "41b9a732"
    },
    {
      "cell_type": "code",
      "execution_count": null,
      "metadata": {
        "jupyter": {
          "source_hidden": false,
          "outputs_hidden": false
        },
        "tags": [
          "show_line_numbers"
        ],
        "noteable": {
          "output_collection_id": "68f29e8d-2639-4d45-bedd-d0669d69a282"
        },
        "ExecuteTime": {
          "end_time": "2023-12-04T19:52:27.848049+00:00",
          "start_time": "2023-12-04T19:52:27.518003+00:00"
        }
      },
      "outputs": [],
      "source": "df = pd.read_csv('ActiveFile-Wilm1thru8-20191015.csv')",
      "id": "b64be00f"
    },
    {
      "cell_type": "markdown",
      "metadata": {
        "tags": [
          "show_line_numbers"
        ]
      },
      "source": [
        "Display a list of columns in the DataFrame."
      ],
      "id": "57a895c7"
    },
    {
      "cell_type": "code",
      "execution_count": null,
      "metadata": {
        "tags": [
          "show_line_numbers"
        ],
        "noteable": {
          "output_collection_id": "8be21272-e76d-470f-b2d8-728369e6ed94"
        },
        "ExecuteTime": {
          "end_time": "2023-12-04T19:53:03.099174+00:00",
          "start_time": "2023-12-04T19:52:58.239794+00:00"
        },
        "datalink": {
          "462423d8-f4eb-46ea-a17c-65a513e69968": {
            "applied_filters": [],
            "dataframe_info": {
              "default_index_used": true,
              "orig_num_cols": 54,
              "orig_num_rows": 51909,
              "orig_size_bytes": 22839960,
              "truncated_num_cols": 54,
              "truncated_num_rows": 50000,
              "truncated_size_bytes": 22000000,
              "truncated_string_columns": []
            },
            "display_id": "462423d8-f4eb-46ea-a17c-65a513e69968",
            "dx_settings": {
              "ALLOW_NOTEABLE_ATTRS": true,
              "COLUMN_SAMPLING_METHOD": "outer",
              "DB_LOCATION": ":memory:",
              "DEV_MODE": false,
              "DISPLAY_MAX_COLUMNS": 100,
              "DISPLAY_MAX_ROWS": 50000,
              "DISPLAY_MODE": "simple",
              "ENABLE_ASSIGNMENT": true,
              "ENABLE_DATALINK": true,
              "FLATTEN_COLUMN_VALUES": true,
              "FLATTEN_INDEX_VALUES": false,
              "GENERATE_DEX_METADATA": false,
              "HTML_TABLE_SCHEMA": false,
              "LOG_LEVEL": 30,
              "MAX_RENDER_SIZE_BYTES": 104857600,
              "MAX_STRING_LENGTH": 250,
              "NUM_PAST_SAMPLES_TRACKED": 3,
              "RANDOM_STATE": 12648430,
              "RESET_INDEX_VALUES": false,
              "ROW_SAMPLING_METHOD": "random",
              "SAMPLING_FACTOR": 0.1,
              "SAMPLING_METHOD": "random",
              "STRINGIFY_COLUMN_VALUES": true,
              "STRINGIFY_INDEX_VALUES": false
            },
            "sample_history": [],
            "sampling_time": "2023-12-04T19:53:02.269980",
            "user_variable_name": "df",
            "variable_name": "df"
          }
        },
        "jupyter": {
          "outputs_hidden": false
        },
        "dx": {
          "dashboard": {
            "multiViews": []
          },
          "fieldMetadata": {},
          "updated": 1701719632829,
          "views": [
            {
              "annotationRules": [],
              "chart": {},
              "chartMode": "empty",
              "confoRules": [],
              "decoration": {
                "footer": "",
                "subtitle": "",
                "title": "New View"
              },
              "facets": [],
              "filterSettings": {
                "SHOW_FILTER_PANEL": true,
                "filters": []
              },
              "id": "873aaafa-29cf-469b-9845-c8952f2c599b",
              "isDefault": false,
              "type": "public",
              "userID": ""
            },
            {
              "annotationRules": [],
              "chart": {
                "barProjection": "horizontal",
                "facets": []
              },
              "chartMode": "bar",
              "confoRules": [],
              "decoration": {
                "footer": "",
                "subtitle": "",
                "title": "Bar Chart"
              },
              "facets": [],
              "filterSettings": {
                "SHOW_FILTER_PANEL": true,
                "filters": []
              },
              "id": "873aaafa-29cf-469b-9845-c8952f2c599b",
              "isDefault": false,
              "isTransitory": true,
              "type": "public",
              "userID": ""
            }
          ]
        }
      },
      "outputs": [],
      "source": "df",
      "id": "66f385fa"
    },
    {
      "cell_type": "markdown",
      "metadata": {
        "tags": [
          "show_line_numbers"
        ]
      },
      "source": [
        "What is the shape of this DataFrame? How many columns does each row have? How many rows are there?"
      ],
      "id": "8815c58f"
    },
    {
      "cell_type": "code",
      "execution_count": null,
      "metadata": {
        "tags": [
          "show_line_numbers"
        ]
      },
      "outputs": [],
      "source": [
        "# "
      ],
      "id": "b99820e7"
    },
    {
      "cell_type": "markdown",
      "metadata": {
        "tags": [
          "show_line_numbers"
        ]
      },
      "source": [
        "# HOME ZIP CODE"
      ],
      "id": "69499ff8"
    },
    {
      "cell_type": "markdown",
      "metadata": {
        "tags": [
          "show_line_numbers"
        ]
      },
      "source": [
        "Group objects using the HOME-ZIPCODE column. Assign the value to a variable called grouped_zc.  \n",
        "[Pandas Groupby User Guide](https://pandas.pydata.org/pandas-docs/stable/user_guide/groupby.html)"
      ],
      "id": "dc674235"
    },
    {
      "cell_type": "code",
      "execution_count": null,
      "metadata": {
        "tags": [
          "show_line_numbers"
        ]
      },
      "outputs": [],
      "source": [
        "# "
      ],
      "id": "faa1f609"
    },
    {
      "cell_type": "markdown",
      "metadata": {
        "tags": [
          "show_line_numbers"
        ]
      },
      "source": [
        "What type of object is grouped_zc?"
      ],
      "id": "a11554c3"
    },
    {
      "cell_type": "code",
      "execution_count": null,
      "metadata": {
        "tags": [
          "show_line_numbers"
        ]
      },
      "outputs": [],
      "source": [
        "# "
      ],
      "id": "d5593f4d"
    },
    {
      "cell_type": "markdown",
      "metadata": {
        "tags": [
          "show_line_numbers"
        ]
      },
      "source": [
        "DataFrameGroupBy objects contain a groups attribute. Display the value of the groups attribute belonging to the grouped_zc object."
      ],
      "id": "2afd50a3"
    },
    {
      "cell_type": "code",
      "execution_count": null,
      "metadata": {
        "tags": [
          "show_line_numbers"
        ]
      },
      "outputs": [],
      "source": [
        "# "
      ],
      "id": "cd565391"
    },
    {
      "cell_type": "markdown",
      "metadata": {
        "tags": [
          "show_line_numbers"
        ]
      },
      "source": [
        "Invoke the size method on the grouped_zc object to find out how many items are associated with each zip code."
      ],
      "id": "649e3d92"
    },
    {
      "cell_type": "code",
      "execution_count": null,
      "metadata": {
        "tags": [
          "show_line_numbers"
        ]
      },
      "outputs": [],
      "source": [
        "# "
      ],
      "id": "f512f410"
    },
    {
      "cell_type": "markdown",
      "metadata": {
        "tags": [
          "show_line_numbers"
        ]
      },
      "source": [
        "Use a magic command so that matplotlib graphics will display inline."
      ],
      "id": "da35b0ce"
    },
    {
      "cell_type": "code",
      "execution_count": null,
      "metadata": {
        "tags": [
          "show_line_numbers"
        ]
      },
      "outputs": [],
      "source": [
        "# "
      ],
      "id": "70ab1fc0"
    },
    {
      "cell_type": "markdown",
      "metadata": {
        "tags": [
          "show_line_numbers"
        ]
      },
      "source": [
        "Create a pie chart illustrating the number of voters per zip code."
      ],
      "id": "0a020f4d"
    },
    {
      "cell_type": "code",
      "execution_count": null,
      "metadata": {
        "tags": [
          "show_line_numbers"
        ]
      },
      "outputs": [],
      "source": [
        "# "
      ],
      "id": "8f5390ea"
    },
    {
      "cell_type": "markdown",
      "metadata": {
        "tags": [
          "show_line_numbers"
        ]
      },
      "source": [
        "# YEAR OF BIRTH"
      ],
      "id": "0d09da7c"
    },
    {
      "cell_type": "markdown",
      "metadata": {
        "tags": [
          "show_line_numbers"
        ]
      },
      "source": [
        "Group objects by the YEAR-OF-BIRTH column. Assign the value to an object called \"grouped_yob\"."
      ],
      "id": "f557d7db"
    },
    {
      "cell_type": "code",
      "execution_count": null,
      "metadata": {
        "tags": [
          "show_line_numbers"
        ]
      },
      "outputs": [],
      "source": [
        "# "
      ],
      "id": "414e72ac"
    },
    {
      "cell_type": "markdown",
      "metadata": {
        "tags": [
          "show_line_numbers"
        ]
      },
      "source": [
        "Display the value of the groups attribute belonging the grouped_yob object."
      ],
      "id": "ba26e66e"
    },
    {
      "cell_type": "code",
      "execution_count": null,
      "metadata": {
        "tags": [
          "show_line_numbers"
        ]
      },
      "outputs": [],
      "source": [
        "# "
      ],
      "id": "5fa1c0ed"
    },
    {
      "cell_type": "markdown",
      "metadata": {
        "tags": [
          "show_line_numbers"
        ]
      },
      "source": [
        "Select the object for the row indicating that the voter was born in 1900."
      ],
      "id": "40b852c6"
    },
    {
      "cell_type": "code",
      "execution_count": null,
      "metadata": {
        "tags": [
          "show_line_numbers"
        ]
      },
      "outputs": [],
      "source": [
        "# "
      ],
      "id": "a80aeb85"
    },
    {
      "cell_type": "markdown",
      "metadata": {
        "tags": [
          "show_line_numbers"
        ]
      },
      "source": [
        "Graph a histogram to  illustrate the age distribution of voters in this dataset. Ty using different values for the bins attribute of the histogram. "
      ],
      "id": "388710be"
    },
    {
      "cell_type": "code",
      "execution_count": null,
      "metadata": {
        "tags": [
          "show_line_numbers"
        ]
      },
      "outputs": [],
      "source": [
        "# "
      ],
      "id": "96cf4833"
    },
    {
      "cell_type": "markdown",
      "metadata": {
        "tags": [
          "show_line_numbers"
        ]
      },
      "source": [
        "# PARTY"
      ],
      "id": "e13510c7"
    },
    {
      "cell_type": "markdown",
      "metadata": {
        "tags": [
          "show_line_numbers"
        ]
      },
      "source": [
        "Group objects using the PARTY column. Assign the value to a variable called grouped_p."
      ],
      "id": "fffb1f0f"
    },
    {
      "cell_type": "code",
      "execution_count": null,
      "metadata": {
        "tags": [
          "show_line_numbers"
        ]
      },
      "outputs": [],
      "source": [
        "# "
      ],
      "id": "bef65687"
    },
    {
      "cell_type": "markdown",
      "metadata": {
        "tags": [
          "show_line_numbers"
        ]
      },
      "source": [
        "Display the value of the groups attribute belonging to the grouped_p object."
      ],
      "id": "ca6991ae"
    },
    {
      "cell_type": "code",
      "execution_count": null,
      "metadata": {
        "tags": [
          "show_line_numbers"
        ]
      },
      "outputs": [],
      "source": [
        "# "
      ],
      "id": "1195df08"
    },
    {
      "cell_type": "markdown",
      "metadata": {
        "tags": [
          "show_line_numbers"
        ]
      },
      "source": [
        "Invoke the size method on the grouped_p object to find out how many items are associated with each party."
      ],
      "id": "179363cd"
    },
    {
      "cell_type": "code",
      "execution_count": null,
      "metadata": {
        "scrolled": true,
        "tags": [
          "show_line_numbers"
        ]
      },
      "outputs": [],
      "source": [
        "# "
      ],
      "id": "8b849e49"
    },
    {
      "cell_type": "markdown",
      "metadata": {
        "tags": [
          "show_line_numbers"
        ]
      },
      "source": [
        "Create a bar chart to visualize the number of voters associated with each party."
      ],
      "id": "dd77147d"
    },
    {
      "cell_type": "code",
      "execution_count": null,
      "metadata": {
        "tags": [
          "show_line_numbers"
        ]
      },
      "outputs": [],
      "source": [
        "# "
      ],
      "id": "3daa13c0"
    },
    {
      "cell_type": "markdown",
      "metadata": {
        "tags": [
          "show_line_numbers"
        ]
      },
      "source": [
        "# Merging Two DataFrames"
      ],
      "id": "f1cb51af"
    },
    {
      "cell_type": "markdown",
      "metadata": {
        "tags": [
          "show_line_numbers"
        ]
      },
      "source": [
        "Using the data from the documentation, create a Pandas DataFrame that contains the party code and the corresponding legal name for each party."
      ],
      "id": "cc8c4c53"
    },
    {
      "cell_type": "code",
      "execution_count": null,
      "metadata": {
        "tags": [
          "show_line_numbers"
        ]
      },
      "outputs": [],
      "source": [
        "# legal_names = {}"
      ],
      "id": "ccda33eb"
    },
    {
      "cell_type": "code",
      "execution_count": null,
      "metadata": {
        "tags": [
          "show_line_numbers"
        ]
      },
      "outputs": [],
      "source": [
        "# df_legal_names = pd.DataFrame(legal_names)"
      ],
      "id": "7a028d65"
    },
    {
      "cell_type": "code",
      "execution_count": null,
      "metadata": {
        "tags": [
          "show_line_numbers"
        ]
      },
      "outputs": [],
      "source": [
        "# df_legal_names"
      ],
      "id": "541c2953"
    },
    {
      "cell_type": "markdown",
      "metadata": {
        "tags": [
          "show_line_numbers"
        ]
      },
      "source": [
        "Create a Pandas DataFrame that contains the Party code and the corresponding number of registered voters for said party."
      ],
      "id": "22d15d31"
    },
    {
      "cell_type": "code",
      "execution_count": null,
      "metadata": {
        "tags": [
          "show_line_numbers"
        ]
      },
      "outputs": [],
      "source": [
        "# Create DataFrame df_party_counts here "
      ],
      "id": "b9819eac"
    },
    {
      "cell_type": "code",
      "execution_count": null,
      "metadata": {
        "tags": [
          "show_line_numbers"
        ]
      },
      "outputs": [],
      "source": [
        "# df_party_counts "
      ],
      "id": "c163d5c0"
    },
    {
      "cell_type": "markdown",
      "metadata": {
        "tags": [
          "show_line_numbers"
        ]
      },
      "source": [
        "Merge the two DataFrames."
      ],
      "id": "cceb5126"
    },
    {
      "cell_type": "code",
      "execution_count": null,
      "metadata": {
        "tags": [
          "show_line_numbers"
        ]
      },
      "outputs": [],
      "source": [
        "# Merge DataFrame here "
      ],
      "id": "e94294c2"
    },
    {
      "cell_type": "code",
      "execution_count": null,
      "metadata": {
        "tags": [
          "show_line_numbers"
        ]
      },
      "outputs": [],
      "source": [
        "# Display new DataFrame here "
      ],
      "id": "be5c324c"
    },
    {
      "cell_type": "markdown",
      "metadata": {
        "tags": [
          "show_line_numbers"
        ]
      },
      "source": [
        "Create a bar graph again but using the legal name for each party as the value on the x axes."
      ],
      "id": "0c7c67b1"
    },
    {
      "cell_type": "code",
      "execution_count": null,
      "metadata": {
        "tags": [
          "show_line_numbers"
        ]
      },
      "outputs": [],
      "source": [
        "# "
      ],
      "id": "6bc91209"
    }
  ],
  "metadata": {
    "kernelspec": {
      "display_name": "Python 3.9",
      "identifier": "legacy",
      "language": "python",
      "language_version": "3.9",
      "name": "python3"
    },
    "language_info": {
      "codemirror_mode": {
        "name": "ipython",
        "version": 3
      },
      "file_extension": ".py",
      "mimetype": "text/x-python",
      "name": "python",
      "nbconvert_exporter": "python",
      "pygments_lexer": "ipython3",
      "version": "3.7.4"
    },
    "selected_hardware_size": "small",
    "kernel_info": {
      "name": "python3"
    }
  },
  "nbformat": 4,
  "nbformat_minor": 5
}