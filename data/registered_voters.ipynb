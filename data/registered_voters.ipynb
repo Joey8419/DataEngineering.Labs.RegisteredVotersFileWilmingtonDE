{
  "cells": [
    {
      "cell_type": "markdown",
      "metadata": {
        "tags": [
          "show_line_numbers"
        ]
      },
      "source": [
        "Import numpy and pandas."
      ],
      "id": "a88bb743"
    },
    {
      "cell_type": "code",
      "execution_count": null,
      "metadata": {
        "noteable": {
          "output_collection_id": "2ee649f9-f35e-44b2-b965-97b252b388d7"
        },
        "ExecuteTime": {
          "end_time": "2023-12-04T19:52:24.033507+00:00",
          "start_time": "2023-12-04T19:52:23.878914+00:00"
        },
        "tags": [
          "show_line_numbers"
        ]
      },
      "outputs": [],
      "source": [
        "import pandas as pd\n",
        "import numpy as np"
      ],
      "id": "535ace82"
    },
    {
      "cell_type": "markdown",
      "metadata": {
        "tags": [
          "show_line_numbers"
        ]
      },
      "source": [
        "Using the bash magic command, view the list of files inside of the data directory."
      ],
      "id": "9969e647"
    },
    {
      "cell_type": "code",
      "execution_count": null,
      "metadata": {
        "noteable": {
          "output_collection_id": "1598c0a6-43a8-493d-bdad-324a3212a6b4"
        },
        "ExecuteTime": {
          "end_time": "2023-12-04T19:52:25.944134+00:00",
          "start_time": "2023-12-04T19:52:25.776261+00:00"
        },
        "jupyter": {
          "outputs_hidden": false,
          "source_hidden": false
        },
        "tags": [
          "show_line_numbers"
        ]
      },
      "outputs": [],
      "source": "%%bash\ncd data\nls",
      "id": "184ebece"
    },
    {
      "cell_type": "markdown",
      "metadata": {
        "tags": [
          "show_line_numbers"
        ]
      },
      "source": [
        "Load the csv file into a Pandas DataFrame."
      ],
      "id": "41b9a732"
    },
    {
      "cell_type": "code",
      "execution_count": null,
      "metadata": {
        "jupyter": {
          "source_hidden": false,
          "outputs_hidden": false
        },
        "tags": [
          "show_line_numbers"
        ],
        "noteable": {
          "output_collection_id": "b68a82a5-3335-4c47-954f-639bf49c2d33"
        },
        "ExecuteTime": {
          "end_time": "2023-12-04T19:57:39.406069+00:00",
          "start_time": "2023-12-04T19:57:39.122050+00:00"
        }
      },
      "outputs": [],
      "source": "# reading/loading csv file into a DataFrame\ndf = pd.read_csv('ActiveFile-Wilm1thru8-20191015.csv')",
      "id": "b64be00f"
    },
    {
      "cell_type": "markdown",
      "metadata": {
        "tags": [
          "show_line_numbers"
        ]
      },
      "source": [
        "Display a list of columns in the DataFrame."
      ],
      "id": "57a895c7"
    },
    {
      "cell_type": "code",
      "execution_count": null,
      "metadata": {
        "tags": [
          "show_line_numbers"
        ],
        "noteable": {
          "output_collection_id": "8be21272-e76d-470f-b2d8-728369e6ed94"
        },
        "ExecuteTime": {
          "end_time": "2023-12-04T19:53:03.099174+00:00",
          "start_time": "2023-12-04T19:52:58.239794+00:00"
        },
        "datalink": {
          "462423d8-f4eb-46ea-a17c-65a513e69968": {
            "applied_filters": [],
            "dataframe_info": {
              "default_index_used": true,
              "orig_num_cols": 54,
              "orig_num_rows": 51909,
              "orig_size_bytes": 22839960,
              "truncated_num_cols": 54,
              "truncated_num_rows": 50000,
              "truncated_size_bytes": 22000000,
              "truncated_string_columns": []
            },
            "display_id": "462423d8-f4eb-46ea-a17c-65a513e69968",
            "dx_settings": {
              "ALLOW_NOTEABLE_ATTRS": true,
              "COLUMN_SAMPLING_METHOD": "outer",
              "DB_LOCATION": ":memory:",
              "DEV_MODE": false,
              "DISPLAY_MAX_COLUMNS": 100,
              "DISPLAY_MAX_ROWS": 50000,
              "DISPLAY_MODE": "simple",
              "ENABLE_ASSIGNMENT": true,
              "ENABLE_DATALINK": true,
              "FLATTEN_COLUMN_VALUES": true,
              "FLATTEN_INDEX_VALUES": false,
              "GENERATE_DEX_METADATA": false,
              "HTML_TABLE_SCHEMA": false,
              "LOG_LEVEL": 30,
              "MAX_RENDER_SIZE_BYTES": 104857600,
              "MAX_STRING_LENGTH": 250,
              "NUM_PAST_SAMPLES_TRACKED": 3,
              "RANDOM_STATE": 12648430,
              "RESET_INDEX_VALUES": false,
              "ROW_SAMPLING_METHOD": "random",
              "SAMPLING_FACTOR": 0.1,
              "SAMPLING_METHOD": "random",
              "STRINGIFY_COLUMN_VALUES": true,
              "STRINGIFY_INDEX_VALUES": false
            },
            "sample_history": [],
            "sampling_time": "2023-12-04T19:53:02.269980",
            "user_variable_name": "df",
            "variable_name": "df"
          }
        },
        "jupyter": {
          "outputs_hidden": true
        },
        "dx": {
          "dashboard": {
            "multiViews": []
          },
          "fieldMetadata": {},
          "updated": 1701719773492,
          "views": [
            {
              "annotationRules": [],
              "chart": {},
              "chartMode": "empty",
              "confoRules": [],
              "decoration": {
                "footer": "",
                "subtitle": "",
                "title": "New View"
              },
              "facets": [],
              "filterSettings": {
                "SHOW_FILTER_PANEL": true,
                "filters": []
              },
              "id": "873aaafa-29cf-469b-9845-c8952f2c599b",
              "isDefault": false,
              "type": "public",
              "userID": ""
            },
            {
              "annotationRules": [],
              "chart": {
                "barProjection": "vertical",
                "dim1": "FIRST-NAME",
                "facets": [],
                "metric3": "ED"
              },
              "chartMode": "bar",
              "confoRules": [],
              "decoration": {
                "footer": "",
                "subtitle": "",
                "title": "Bar Chart"
              },
              "facets": [],
              "filterSettings": {
                "SHOW_FILTER_PANEL": true,
                "filters": []
              },
              "id": "873aaafa-29cf-469b-9845-c8952f2c599b",
              "isDefault": false,
              "isTransitory": true,
              "type": "public",
              "userID": ""
            },
            {
              "annotationRules": [],
              "chart": {},
              "chartMode": "empty",
              "confoRules": [],
              "decoration": {
                "footer": "",
                "subtitle": "",
                "title": "New View"
              },
              "facets": [],
              "filterSettings": {
                "SHOW_FILTER_PANEL": true,
                "filters": []
              },
              "id": "64e5f873-266b-4cbe-8c49-356ee9c0a66e",
              "isDefault": false,
              "type": "public",
              "userID": ""
            },
            {
              "annotationRules": [],
              "chart": {
                "facets": []
              },
              "chartMode": "grid",
              "confoRules": [],
              "decoration": {
                "footer": "",
                "subtitle": "",
                "title": "Table"
              },
              "facets": [],
              "filterSettings": {
                "SHOW_FILTER_PANEL": true,
                "filters": []
              },
              "id": "64e5f873-266b-4cbe-8c49-356ee9c0a66e",
              "isDefault": false,
              "isTransitory": true,
              "type": "public",
              "userID": ""
            },
            {
              "annotationRules": [],
              "chart": {},
              "chartMode": "empty",
              "confoRules": [],
              "decoration": {
                "footer": "",
                "subtitle": "",
                "title": "New View"
              },
              "facets": [],
              "filterSettings": {
                "SHOW_FILTER_PANEL": true,
                "filters": []
              },
              "id": "9a1e19b3-904b-4f55-8b18-1e708d2868ef",
              "isDefault": false,
              "type": "public",
              "userID": ""
            },
            {
              "annotationRules": [],
              "chart": {
                "facets": [
                  {
                    "chartMode": "bar",
                    "confoRules": [
                      {
                        "colorOpts": {
                          "color": null,
                          "colorsHash": {
                            "1ST": "#e5e36e",
                            "2ND": "#827abf",
                            "3RD": "#e6a19f",
                            "4TH": "#6f89b6",
                            "I": "#b3331d",
                            "II": "#e46538",
                            "III": "#b86117",
                            "IV": "#b6a756",
                            "JR": "#122753",
                            "SR": "#27552d",
                            "V": "#159eb7",
                            "VII": "#f62150",
                            "X": "#96bb77"
                          },
                          "cond": null,
                          "gradient": null,
                          "max": "",
                          "min": "",
                          "mode": "categorical",
                          "scale": null,
                          "thresholdColors": null,
                          "thresholdValues": null
                        },
                        "columnType": "Dimension",
                        "fieldName": "SUFFIX",
                        "id": "data-prism",
                        "index": 0,
                        "name": ""
                      }
                    ],
                    "faceting": {
                      "barProjection": "vertical",
                      "combinationMode": "AVG",
                      "dim1": "SUFFIX",
                      "labelType": "none",
                      "metric1": "MAIL-ZIP",
                      "metric3": "none",
                      "proBarMode": "Combined",
                      "secondBarMetric": "DATE-LAST-CHG"
                    },
                    "name": "bar",
                    "title": "Combined Bar Chart"
                  },
                  {
                    "chartMode": "scatter",
                    "confoRules": [
                      {
                        "colorOpts": {
                          "color": null,
                          "colorsHash": {
                            "1ST": "#e5e36e",
                            "2ND": "#827abf",
                            "3RD": "#e6a19f",
                            "4TH": "#6f89b6",
                            "I": "#b3331d",
                            "II": "#e46538",
                            "III": "#b86117",
                            "IV": "#b6a756",
                            "JR": "#122753",
                            "SR": "#27552d",
                            "V": "#159eb7",
                            "VII": "#f62150",
                            "X": "#96bb77"
                          },
                          "cond": null,
                          "gradient": null,
                          "max": "",
                          "min": "",
                          "mode": "categorical",
                          "scale": null,
                          "thresholdColors": null,
                          "thresholdValues": null
                        },
                        "columnType": "Dimension",
                        "fieldName": "SUFFIX",
                        "id": "data-prism",
                        "index": 0,
                        "name": ""
                      }
                    ],
                    "faceting": {
                      "confoColor": "SUFFIX",
                      "metric1": "MAIL-ZIP",
                      "metric2": "DATE-LAST-CHG",
                      "scatterplotSize": "none"
                    },
                    "name": "scatter",
                    "title": "Scatterplot"
                  },
                  {
                    "chartMode": "dimensionmatrix",
                    "confoRules": [
                      {
                        "colorOpts": {
                          "color": null,
                          "colorsHash": {
                            "WILMINGTON": "#122753"
                          },
                          "cond": null,
                          "gradient": null,
                          "max": "",
                          "min": "",
                          "mode": "categorical",
                          "scale": null,
                          "thresholdColors": null,
                          "thresholdValues": null
                        },
                        "columnType": "Dimension",
                        "fieldName": "HOME-CITY",
                        "id": "data-prism",
                        "index": 0,
                        "name": ""
                      }
                    ],
                    "faceting": {
                      "dim1": "HOME-CITY",
                      "dim2": "COUNTY",
                      "gridSize": 20,
                      "metric1": "GEN-HIST-5"
                    },
                    "name": "dimensionmatrix",
                    "title": "Dimension Matrix"
                  },
                  {
                    "chartMode": "map",
                    "confoRules": [
                      {
                        "colorOpts": {
                          "color": null,
                          "colorsHash": {
                            "J03": "#b3331d",
                            "J06": "#122753",
                            "L99": "#b6a756"
                          },
                          "cond": null,
                          "gradient": null,
                          "max": "",
                          "min": "",
                          "mode": "categorical",
                          "scale": null,
                          "thresholdColors": null,
                          "thresholdValues": null
                        },
                        "columnType": "Dimension",
                        "fieldName": "CODE-HOME-CITY",
                        "id": "data-prism",
                        "index": 0,
                        "name": ""
                      }
                    ],
                    "faceting": {
                      "baseLayer": "world",
                      "combinationMode": "AVG",
                      "layer.combinationMetric": "GEN-HIST-4",
                      "layer.joinDim": "CODE-HOME-CITY",
                      "layerSettings": [
                        {
                          "color": "#000000",
                          "combinationMetric": "GEN-HIST-4",
                          "hoverOpts": {
                            "dims": [
                              "index",
                              "UNIQUE-ID",
                              "LAST-NAME",
                              "FIRST-NAME",
                              "MID-INIT",
                              "SUFFIX",
                              "YEAR-OF-BIRTH",
                              "HOME-NO",
                              "HOME-APT",
                              "HOME-STREET",
                              "HOME-DEV",
                              "HOME-CITY",
                              "HOME-ZIPCODE",
                              "COUNTY",
                              "ED",
                              "RD",
                              "SD",
                              "CNLEVY",
                              "WILM",
                              "CODE-HOME-CITY",
                              "SCH-DIST",
                              "PARTY",
                              "DATE-REG",
                              "PP-HIST-1",
                              "PP-HIST-2",
                              "PR-HIST-1",
                              "PR-HIST-2",
                              "PR-HIST-3",
                              "GEN-HIST-1",
                              "GEN-HIST-2",
                              "GEN-HIST-3",
                              "GEN-HIST-4",
                              "GEN-HIST-5",
                              "SP-HIST-1",
                              "SCHL-HIST-1",
                              "SCHL-HIST-2",
                              "SCHL-HIST-3",
                              "REF-HIST-1",
                              "REF-HIST-2",
                              "REF-HIST-3",
                              "MAIL-NO",
                              "MAIL-APT",
                              "MAIL-STR",
                              "MAIL-CITY",
                              "MAIL-STATE",
                              "DATE-LAST-CHG",
                              "CODE-CHANGE",
                              "STATUS"
                            ],
                            "mets": [
                              "index",
                              "UNIQUE-ID",
                              "YEAR-OF-BIRTH",
                              "HOME-ZIPCODE",
                              "ED",
                              "RD",
                              "SD",
                              "CNLEVY",
                              "WILM",
                              "DATE-REG",
                              "PP-HIST-1",
                              "PP-HIST-2",
                              "PR-HIST-1",
                              "PR-HIST-2",
                              "PR-HIST-3",
                              "GEN-HIST-1",
                              "GEN-HIST-2",
                              "GEN-HIST-3",
                              "GEN-HIST-4",
                              "GEN-HIST-5",
                              "SP-HIST-2",
                              "SP-HIST-3",
                              "SCHL-HIST-4",
                              "SCHL-HIST-5",
                              "REF-HIST-4",
                              "REF-HIST-5",
                              "MAIL-ZIP",
                              "DATE-LAST-CHG"
                            ]
                          },
                          "id": "suggested-map",
                          "joinDim": "CODE-HOME-CITY",
                          "pointSizeOpts": {
                            "mode": "fixed",
                            "scale": "Linear",
                            "size": 2,
                            "sizeMax": 10,
                            "sizeMin": 1
                          },
                          "size": 2,
                          "stroke": "#000000",
                          "strokeWidth": 1,
                          "transparency": 0.9,
                          "type": "choro"
                        }
                      ],
                      "mapMode": "choro"
                    },
                    "name": "map",
                    "title": "Country Choropleth Map"
                  },
                  {
                    "chartMode": "map",
                    "confoRules": [
                      {
                        "colorOpts": {
                          "color": null,
                          "colorsHash": {
                            "J03": "#b3331d",
                            "J06": "#122753",
                            "L99": "#b6a756"
                          },
                          "cond": null,
                          "gradient": null,
                          "max": "",
                          "min": "",
                          "mode": "categorical",
                          "scale": null,
                          "thresholdColors": null,
                          "thresholdValues": null
                        },
                        "columnType": "Dimension",
                        "fieldName": "CODE-HOME-CITY",
                        "id": "data-prism",
                        "index": 0,
                        "name": ""
                      }
                    ],
                    "faceting": {
                      "baseLayer": "us_states_inset",
                      "combinationMode": "AVG",
                      "layer.combinationMetric": "GEN-HIST-4",
                      "layer.joinDim": "CODE-HOME-CITY",
                      "layerSettings": [
                        {
                          "color": "#000000",
                          "combinationMetric": "GEN-HIST-4",
                          "hoverOpts": {
                            "dims": [
                              "index",
                              "UNIQUE-ID",
                              "LAST-NAME",
                              "FIRST-NAME",
                              "MID-INIT",
                              "SUFFIX",
                              "YEAR-OF-BIRTH",
                              "HOME-NO",
                              "HOME-APT",
                              "HOME-STREET",
                              "HOME-DEV",
                              "HOME-CITY",
                              "HOME-ZIPCODE",
                              "COUNTY",
                              "ED",
                              "RD",
                              "SD",
                              "CNLEVY",
                              "WILM",
                              "CODE-HOME-CITY",
                              "SCH-DIST",
                              "PARTY",
                              "DATE-REG",
                              "PP-HIST-1",
                              "PP-HIST-2",
                              "PR-HIST-1",
                              "PR-HIST-2",
                              "PR-HIST-3",
                              "GEN-HIST-1",
                              "GEN-HIST-2",
                              "GEN-HIST-3",
                              "GEN-HIST-4",
                              "GEN-HIST-5",
                              "SP-HIST-1",
                              "SCHL-HIST-1",
                              "SCHL-HIST-2",
                              "SCHL-HIST-3",
                              "REF-HIST-1",
                              "REF-HIST-2",
                              "REF-HIST-3",
                              "MAIL-NO",
                              "MAIL-APT",
                              "MAIL-STR",
                              "MAIL-CITY",
                              "MAIL-STATE",
                              "DATE-LAST-CHG",
                              "CODE-CHANGE",
                              "STATUS"
                            ],
                            "mets": [
                              "index",
                              "UNIQUE-ID",
                              "YEAR-OF-BIRTH",
                              "HOME-ZIPCODE",
                              "ED",
                              "RD",
                              "SD",
                              "CNLEVY",
                              "WILM",
                              "DATE-REG",
                              "PP-HIST-1",
                              "PP-HIST-2",
                              "PR-HIST-1",
                              "PR-HIST-2",
                              "PR-HIST-3",
                              "GEN-HIST-1",
                              "GEN-HIST-2",
                              "GEN-HIST-3",
                              "GEN-HIST-4",
                              "GEN-HIST-5",
                              "SP-HIST-2",
                              "SP-HIST-3",
                              "SCHL-HIST-4",
                              "SCHL-HIST-5",
                              "REF-HIST-4",
                              "REF-HIST-5",
                              "MAIL-ZIP",
                              "DATE-LAST-CHG"
                            ]
                          },
                          "id": "suggested-map",
                          "joinDim": "CODE-HOME-CITY",
                          "pointSizeOpts": {
                            "mode": "fixed",
                            "scale": "Linear",
                            "size": 2,
                            "sizeMax": 10,
                            "sizeMin": 1
                          },
                          "size": 2,
                          "stroke": "#000000",
                          "strokeWidth": 1,
                          "transparency": 0.9,
                          "type": "choro"
                        }
                      ],
                      "mapMode": "choro"
                    },
                    "name": "map",
                    "title": "State Choropleth Map"
                  },
                  {
                    "chartMode": "dotplot",
                    "confoRules": [
                      {
                        "colorOpts": {
                          "color": null,
                          "colorsHash": {
                            "BR": "#b3331d",
                            "CO": "#b86117",
                            "CS": "#b6a756",
                            "RC": "#122753"
                          },
                          "cond": null,
                          "gradient": null,
                          "max": "",
                          "min": "",
                          "mode": "categorical",
                          "scale": null,
                          "thresholdColors": null,
                          "thresholdValues": null
                        },
                        "columnType": "Dimension",
                        "fieldName": "SCH-DIST",
                        "id": "data-prism",
                        "index": 0,
                        "name": ""
                      }
                    ],
                    "faceting": {
                      "barProjection": "radial",
                      "combinationMode": "AVG",
                      "dim1": "SCH-DIST",
                      "labelType": "none",
                      "radarData": "column",
                      "selectedBarMetrics": [
                        "GEN-HIST-3",
                        "GEN-HIST-2",
                        "GEN-HIST-1"
                      ]
                    },
                    "name": "dotplot",
                    "title": "Metric Radar Plot"
                  },
                  {
                    "chartMode": "scatter",
                    "confoRules": [
                      {
                        "colorOpts": {
                          "color": null,
                          "colorsHash": {
                            "BR": "#b3331d",
                            "CO": "#b86117",
                            "CS": "#b6a756",
                            "RC": "#122753"
                          },
                          "cond": null,
                          "gradient": null,
                          "max": "",
                          "min": "",
                          "mode": "categorical",
                          "scale": null,
                          "thresholdColors": null,
                          "thresholdValues": null
                        },
                        "columnType": "Dimension",
                        "fieldName": "SCH-DIST",
                        "id": "data-prism",
                        "index": 0,
                        "name": ""
                      }
                    ],
                    "faceting": {
                      "confoColor": "SCH-DIST",
                      "metric1": "GEN-HIST-3",
                      "metric2": "GEN-HIST-2",
                      "scatterplotSize": "GEN-HIST-1"
                    },
                    "name": "scatter",
                    "title": "Graduated Symbol Plot"
                  },
                  {
                    "chartMode": "bar",
                    "confoRules": [],
                    "faceting": {
                      "barProjection": "vertical",
                      "combinationMode": "AVG",
                      "dim1": "LAST-NAME",
                      "groupOther": true,
                      "labelType": "none",
                      "metric1": "PR-HIST-3",
                      "proBarMode": "Combined",
                      "secondBarMetric": "none",
                      "sortColumnsBy": "desc-val"
                    },
                    "name": "bar",
                    "title": "Long Tail Bar Chart"
                  },
                  {
                    "chartMode": "dotplot",
                    "confoRules": [
                      {
                        "colorOpts": {
                          "color": null,
                          "colorsHash": {
                            "A": "#e6a19f",
                            "B": "#b86117",
                            "D": "#122753",
                            "E": "#f5e0b7",
                            "G": "#e46538",
                            "H": "#e5e36e",
                            "I": "#b3331d",
                            "J": "#159eb7",
                            "L": "#6f89b6",
                            "M": "#78ee5a",
                            "O": "#b9e3c5",
                            "Q": "#5b1e37",
                            "R": "#b6a756",
                            "T": "#3aa609",
                            "V": "#827abf",
                            "W": "#27552d",
                            "Y": "#96bb77",
                            "Z": "#f62150"
                          },
                          "cond": null,
                          "gradient": null,
                          "max": "",
                          "min": "",
                          "mode": "categorical",
                          "scale": null,
                          "thresholdColors": null,
                          "thresholdValues": null
                        },
                        "columnType": "Dimension",
                        "fieldName": "PARTY",
                        "id": "data-prism",
                        "index": 0,
                        "name": ""
                      }
                    ],
                    "faceting": {
                      "barProjection": "horizontal",
                      "combinationMode": "AVG",
                      "dim1": "PARTY",
                      "labelType": "none",
                      "metric1": "PR-HIST-2",
                      "pointType": "Dot Plot",
                      "proBarMode": "Combined",
                      "secondBarMetric": "PR-HIST-1"
                    },
                    "name": "dotplot",
                    "title": "Dumbell Plot"
                  },
                  {
                    "chartMode": "hierarchy",
                    "confoRules": [
                      {
                        "colorOpts": {
                          "color": null,
                          "colorsHash": {
                            "15SR18": "#b6a756",
                            "16NC01": "#122753",
                            "17LC02": "#b86117",
                            "17SS10": "#b3331d"
                          },
                          "cond": null,
                          "gradient": null,
                          "max": "",
                          "min": "",
                          "mode": "categorical",
                          "scale": null,
                          "thresholdColors": null,
                          "thresholdValues": null
                        },
                        "columnType": "Dimension",
                        "fieldName": "SP-HIST-1",
                        "id": "data-prism",
                        "index": 0,
                        "name": ""
                      }
                    ],
                    "faceting": {
                      "hierarchyType": "treemap",
                      "metric1": "PP-HIST-2",
                      "networkLabel": "scaled",
                      "selectedDimensions": [
                        "SP-HIST-1",
                        "SCHL-HIST-1"
                      ]
                    },
                    "name": "hierarchy",
                    "title": "Treemap"
                  },
                  {
                    "chartMode": "summary",
                    "confoRules": [
                      {
                        "colorOpts": {
                          "color": null,
                          "colorsHash": {
                            "18SBBR": "#b3331d",
                            "18SBCO": "#b86117",
                            "18SBCS": "#b6a756",
                            "18SBRC": "#122753"
                          },
                          "cond": null,
                          "gradient": null,
                          "max": "",
                          "min": "",
                          "mode": "categorical",
                          "scale": null,
                          "thresholdColors": null,
                          "thresholdValues": null
                        },
                        "columnType": "Dimension",
                        "fieldName": "SCHL-HIST-2",
                        "id": "data-prism",
                        "index": 0,
                        "name": ""
                      }
                    ],
                    "faceting": {
                      "dim1": "SCHL-HIST-2",
                      "metric1": "PP-HIST-1",
                      "summaryBins": 15,
                      "summaryType": "violin",
                      "violinIQR": true
                    },
                    "name": "summary",
                    "title": "Violin w/ IQR"
                  },
                  {
                    "chartMode": "pie",
                    "confoRules": [
                      {
                        "colorOpts": {
                          "color": null,
                          "colorsHash": {
                            "18SBBR": "#b3331d",
                            "18SBCO": "#b86117",
                            "18SBCS": "#b6a756",
                            "18SBRC": "#122753"
                          },
                          "cond": null,
                          "gradient": null,
                          "max": "",
                          "min": "",
                          "mode": "categorical",
                          "scale": null,
                          "thresholdColors": null,
                          "thresholdValues": null
                        },
                        "columnType": "Dimension",
                        "fieldName": "SCHL-HIST-2",
                        "id": "data-prism",
                        "index": 0,
                        "name": ""
                      }
                    ],
                    "faceting": {
                      "combinationMode": "SUM",
                      "dim1": "SCHL-HIST-2",
                      "labelType": "none",
                      "metric1": "PP-HIST-1",
                      "proBarMode": "Combined",
                      "showTotal": true
                    },
                    "name": "pie",
                    "title": "Donut Chart"
                  },
                  {
                    "chartMode": "bar",
                    "confoRules": [
                      {
                        "colorOpts": {
                          "color": null,
                          "colorsHash": {
                            "17SBBR": "#b6a756",
                            "17SBCS": "#122753",
                            "17SBRC": "#b3331d"
                          },
                          "cond": null,
                          "gradient": null,
                          "max": "",
                          "min": "",
                          "mode": "categorical",
                          "scale": null,
                          "thresholdColors": null,
                          "thresholdValues": null
                        },
                        "columnType": "Dimension",
                        "fieldName": "SCHL-HIST-3",
                        "id": "data-prism",
                        "index": 0,
                        "name": ""
                      }
                    ],
                    "faceting": {
                      "barProjection": "horizontal",
                      "combinationMode": "AVG",
                      "dim1": "SCHL-HIST-3",
                      "labelType": "none",
                      "proBarMode": "Clustered",
                      "selectedBarMetrics": [
                        "WILM",
                        "DATE-REG",
                        "CNLEVY"
                      ]
                    },
                    "name": "bar",
                    "title": "Metric Bar Chart"
                  },
                  {
                    "chartMode": "splom",
                    "confoRules": [],
                    "faceting": {
                      "selectedMetrics": [
                        "index",
                        "UNIQUE-ID",
                        "YEAR-OF-BIRTH",
                        "HOME-ZIPCODE",
                        "ED"
                      ]
                    },
                    "name": "splom",
                    "title": "Scatterplot Matrix"
                  },
                  {
                    "chartMode": "parcoords",
                    "confoRules": [],
                    "faceting": {
                      "parCoordsColor": "none",
                      "parcoordsColumns": [
                        "REF-HIST-1",
                        "REF-HIST-2",
                        "REF-HIST-3",
                        "MAIL-APT",
                        "MAIL-STATE",
                        "CODE-CHANGE",
                        "STATUS",
                        "FIRST-NAME",
                        "MID-INIT",
                        "HOME-NO",
                        "HOME-APT",
                        "HOME-STREET",
                        "HOME-DEV",
                        "MAIL-NO",
                        "MAIL-STR",
                        "MAIL-CITY",
                        "RD",
                        "SD",
                        "SP-HIST-2",
                        "SP-HIST-3",
                        "SCHL-HIST-4",
                        "SCHL-HIST-5",
                        "REF-HIST-4",
                        "REF-HIST-5"
                      ]
                    },
                    "name": "parcoords",
                    "title": "Parallel Coordinates"
                  }
                ]
              },
              "chartMode": "empty",
              "confoRules": [],
              "decoration": {
                "footer": "",
                "subtitle": "",
                "title": "New View"
              },
              "facets": [],
              "filterSettings": {
                "SHOW_FILTER_PANEL": true,
                "filters": []
              },
              "id": "9a1e19b3-904b-4f55-8b18-1e708d2868ef",
              "isDefault": false,
              "isTransitory": true,
              "type": "public",
              "userID": ""
            }
          ]
        }
      },
      "outputs": [],
      "source": "df",
      "id": "66f385fa"
    },
    {
      "cell_type": "markdown",
      "metadata": {
        "tags": [
          "show_line_numbers"
        ]
      },
      "source": [
        "What is the shape of this DataFrame? How many columns does each row have? How many rows are there?"
      ],
      "id": "8815c58f"
    },
    {
      "cell_type": "code",
      "execution_count": null,
      "metadata": {
        "tags": [
          "show_line_numbers"
        ],
        "noteable": {
          "output_collection_id": "c9d2dc3d-4983-4a9b-b7ad-6b837da0b0d0"
        },
        "ExecuteTime": {
          "end_time": "2023-12-04T20:00:03.820441+00:00",
          "start_time": "2023-12-04T20:00:03.664176+00:00"
        }
      },
      "outputs": [],
      "source": "df.shape",
      "id": "b99820e7"
    },
    {
      "cell_type": "markdown",
      "metadata": {
        "tags": [
          "show_line_numbers"
        ]
      },
      "source": [
        "# HOME ZIP CODE"
      ],
      "id": "69499ff8"
    },
    {
      "cell_type": "markdown",
      "metadata": {
        "tags": [
          "show_line_numbers"
        ]
      },
      "source": [
        "Group objects using the HOME-ZIPCODE column. Assign the value to a variable called grouped_zc.  \n",
        "[Pandas Groupby User Guide](https://pandas.pydata.org/pandas-docs/stable/user_guide/groupby.html)"
      ],
      "id": "dc674235"
    },
    {
      "id": "60810261-2e7f-40ca-8350-704bda478cfe",
      "cell_type": "code",
      "metadata": {
        "jupyter": {
          "outputs_hidden": false,
          "source_hidden": false
        },
        "noteable": {
          "cell_type": "code",
          "output_collection_id": "1d7a3932-04ca-4080-b8f8-b1423d580c5d"
        },
        "ExecuteTime": {
          "end_time": "2023-12-04T20:07:52.012037+00:00",
          "start_time": "2023-12-04T20:07:51.856280+00:00"
        }
      },
      "execution_count": null,
      "source": "df.columns",
      "outputs": []
    },
    {
      "cell_type": "code",
      "execution_count": null,
      "metadata": {
        "tags": [
          "show_line_numbers"
        ],
        "noteable": {
          "output_collection_id": "4f455a7d-c7c2-4b9b-934e-0d6cf1cd38da"
        },
        "ExecuteTime": {
          "end_time": "2023-12-04T20:08:49.894568+00:00",
          "start_time": "2023-12-04T20:08:49.738219+00:00"
        }
      },
      "outputs": [],
      "source": "grouped_zc = df.groupby(\"HOME-ZIPCODE\")\ngrouped_zc",
      "id": "faa1f609"
    },
    {
      "cell_type": "markdown",
      "metadata": {
        "tags": [
          "show_line_numbers"
        ]
      },
      "source": [
        "What type of object is grouped_zc?"
      ],
      "id": "a11554c3"
    },
    {
      "cell_type": "code",
      "execution_count": null,
      "metadata": {
        "tags": [
          "show_line_numbers"
        ],
        "noteable": {
          "output_collection_id": "dee1e0aa-50aa-46f4-ae97-434a3b522f93"
        },
        "ExecuteTime": {
          "end_time": "2023-12-04T20:13:40.481787+00:00",
          "start_time": "2023-12-04T20:13:40.324793+00:00"
        }
      },
      "outputs": [],
      "source": "type(grouped_zc)",
      "id": "d5593f4d"
    },
    {
      "cell_type": "markdown",
      "metadata": {
        "tags": [
          "show_line_numbers"
        ]
      },
      "source": [
        "DataFrameGroupBy objects contain a groups attribute. Display the value of the groups attribute belonging to the grouped_zc object."
      ],
      "id": "2afd50a3"
    },
    {
      "cell_type": "code",
      "execution_count": null,
      "metadata": {
        "tags": [
          "show_line_numbers"
        ],
        "noteable": {
          "output_collection_id": "9897de15-2e20-450a-a55e-7c74fc6e95ab"
        },
        "ExecuteTime": {
          "end_time": "2023-12-04T20:21:16.344625+00:00",
          "start_time": "2023-12-04T20:21:16.187989+00:00"
        }
      },
      "outputs": [],
      "source": "grouped_zc.groups ",
      "id": "cd565391"
    },
    {
      "cell_type": "markdown",
      "metadata": {
        "tags": [
          "show_line_numbers"
        ]
      },
      "source": [
        "Invoke the size method on the grouped_zc object to find out how many items are associated with each zip code."
      ],
      "id": "649e3d92"
    },
    {
      "cell_type": "code",
      "execution_count": null,
      "metadata": {
        "tags": [
          "show_line_numbers"
        ],
        "noteable": {
          "output_collection_id": "8c5bd5bf-5093-414e-bb2b-749bbba6f77f"
        },
        "ExecuteTime": {
          "end_time": "2023-12-04T20:33:48.734981+00:00",
          "start_time": "2023-12-04T20:33:47.718165+00:00"
        },
        "datalink": {
          "a6062b69-090f-4ea0-ad0f-68414df81f9f": {
            "applied_filters": [],
            "dataframe_info": {
              "default_index_used": false,
              "orig_num_cols": 1,
              "orig_num_rows": 5,
              "orig_size_bytes": 80,
              "truncated_num_cols": 1,
              "truncated_num_rows": 5,
              "truncated_size_bytes": 80,
              "truncated_string_columns": []
            },
            "display_id": "a6062b69-090f-4ea0-ad0f-68414df81f9f",
            "dx_settings": {
              "ALLOW_NOTEABLE_ATTRS": true,
              "COLUMN_SAMPLING_METHOD": "outer",
              "DB_LOCATION": ":memory:",
              "DEV_MODE": false,
              "DISPLAY_MAX_COLUMNS": 100,
              "DISPLAY_MAX_ROWS": 50000,
              "DISPLAY_MODE": "simple",
              "ENABLE_ASSIGNMENT": true,
              "ENABLE_DATALINK": true,
              "FLATTEN_COLUMN_VALUES": true,
              "FLATTEN_INDEX_VALUES": false,
              "GENERATE_DEX_METADATA": false,
              "HTML_TABLE_SCHEMA": false,
              "LOG_LEVEL": 30,
              "MAX_RENDER_SIZE_BYTES": 104857600,
              "MAX_STRING_LENGTH": 250,
              "NUM_PAST_SAMPLES_TRACKED": 3,
              "RANDOM_STATE": 12648430,
              "RESET_INDEX_VALUES": false,
              "ROW_SAMPLING_METHOD": "random",
              "SAMPLING_FACTOR": 0.1,
              "SAMPLING_METHOD": "random",
              "STRINGIFY_COLUMN_VALUES": true,
              "STRINGIFY_INDEX_VALUES": false
            },
            "sample_history": [],
            "sampling_time": "2023-12-04T20:22:32.156158",
            "user_variable_name": null,
            "variable_name": "unk_dataframe_b14ac06bc27844b5935630e875d807d0"
          },
          "33a19f94-eee5-4b48-ade2-cbe056ac7c92": {
            "applied_filters": [],
            "dataframe_info": {
              "default_index_used": false,
              "orig_num_cols": 1,
              "orig_num_rows": 5,
              "orig_size_bytes": 80,
              "truncated_num_cols": 1,
              "truncated_num_rows": 5,
              "truncated_size_bytes": 80,
              "truncated_string_columns": []
            },
            "display_id": "33a19f94-eee5-4b48-ade2-cbe056ac7c92",
            "dx_settings": {
              "ALLOW_NOTEABLE_ATTRS": true,
              "COLUMN_SAMPLING_METHOD": "outer",
              "DB_LOCATION": ":memory:",
              "DEV_MODE": false,
              "DISPLAY_MAX_COLUMNS": 100,
              "DISPLAY_MAX_ROWS": 50000,
              "DISPLAY_MODE": "simple",
              "ENABLE_ASSIGNMENT": true,
              "ENABLE_DATALINK": true,
              "FLATTEN_COLUMN_VALUES": true,
              "FLATTEN_INDEX_VALUES": false,
              "GENERATE_DEX_METADATA": false,
              "HTML_TABLE_SCHEMA": false,
              "LOG_LEVEL": 30,
              "MAX_RENDER_SIZE_BYTES": 104857600,
              "MAX_STRING_LENGTH": 250,
              "NUM_PAST_SAMPLES_TRACKED": 3,
              "RANDOM_STATE": 12648430,
              "RESET_INDEX_VALUES": false,
              "ROW_SAMPLING_METHOD": "random",
              "SAMPLING_FACTOR": 0.1,
              "SAMPLING_METHOD": "random",
              "STRINGIFY_COLUMN_VALUES": true,
              "STRINGIFY_INDEX_VALUES": false
            },
            "sample_history": [],
            "sampling_time": "2023-12-04T20:22:58.894380",
            "user_variable_name": null,
            "variable_name": "unk_dataframe_7e3bd1e38b98492697cf0ec2e73eb571"
          },
          "b5d872be-3eb7-4a9f-9a81-632efc1e8691": {
            "applied_filters": [],
            "dataframe_info": {
              "default_index_used": false,
              "orig_num_cols": 1,
              "orig_num_rows": 5,
              "orig_size_bytes": 80,
              "truncated_num_cols": 1,
              "truncated_num_rows": 5,
              "truncated_size_bytes": 80,
              "truncated_string_columns": []
            },
            "display_id": "b5d872be-3eb7-4a9f-9a81-632efc1e8691",
            "dx_settings": {
              "ALLOW_NOTEABLE_ATTRS": true,
              "COLUMN_SAMPLING_METHOD": "outer",
              "DB_LOCATION": ":memory:",
              "DEV_MODE": false,
              "DISPLAY_MAX_COLUMNS": 100,
              "DISPLAY_MAX_ROWS": 50000,
              "DISPLAY_MODE": "simple",
              "ENABLE_ASSIGNMENT": true,
              "ENABLE_DATALINK": true,
              "FLATTEN_COLUMN_VALUES": true,
              "FLATTEN_INDEX_VALUES": false,
              "GENERATE_DEX_METADATA": false,
              "HTML_TABLE_SCHEMA": false,
              "LOG_LEVEL": 30,
              "MAX_RENDER_SIZE_BYTES": 104857600,
              "MAX_STRING_LENGTH": 250,
              "NUM_PAST_SAMPLES_TRACKED": 3,
              "RANDOM_STATE": 12648430,
              "RESET_INDEX_VALUES": false,
              "ROW_SAMPLING_METHOD": "random",
              "SAMPLING_FACTOR": 0.1,
              "SAMPLING_METHOD": "random",
              "STRINGIFY_COLUMN_VALUES": true,
              "STRINGIFY_INDEX_VALUES": false
            },
            "sample_history": [],
            "sampling_time": "2023-12-04T20:29:10.499937",
            "user_variable_name": "sized_grouped_zc",
            "variable_name": "sized_grouped_zc"
          },
          "b2d4dd36-b76c-46e1-99ab-c59ee64a5854": {
            "applied_filters": [],
            "dataframe_info": {
              "default_index_used": false,
              "orig_num_cols": 1,
              "orig_num_rows": 5,
              "orig_size_bytes": 80,
              "truncated_num_cols": 1,
              "truncated_num_rows": 5,
              "truncated_size_bytes": 80,
              "truncated_string_columns": []
            },
            "display_id": "b2d4dd36-b76c-46e1-99ab-c59ee64a5854",
            "dx_settings": {
              "ALLOW_NOTEABLE_ATTRS": true,
              "COLUMN_SAMPLING_METHOD": "outer",
              "DB_LOCATION": ":memory:",
              "DEV_MODE": false,
              "DISPLAY_MAX_COLUMNS": 100,
              "DISPLAY_MAX_ROWS": 50000,
              "DISPLAY_MODE": "simple",
              "ENABLE_ASSIGNMENT": true,
              "ENABLE_DATALINK": true,
              "FLATTEN_COLUMN_VALUES": true,
              "FLATTEN_INDEX_VALUES": false,
              "GENERATE_DEX_METADATA": false,
              "HTML_TABLE_SCHEMA": false,
              "LOG_LEVEL": 30,
              "MAX_RENDER_SIZE_BYTES": 104857600,
              "MAX_STRING_LENGTH": 250,
              "NUM_PAST_SAMPLES_TRACKED": 3,
              "RANDOM_STATE": 12648430,
              "RESET_INDEX_VALUES": false,
              "ROW_SAMPLING_METHOD": "random",
              "SAMPLING_FACTOR": 0.1,
              "SAMPLING_METHOD": "random",
              "STRINGIFY_COLUMN_VALUES": true,
              "STRINGIFY_INDEX_VALUES": false
            },
            "sample_history": [],
            "sampling_time": "2023-12-04T20:33:48.576923",
            "user_variable_name": "sized_grouped_zc",
            "variable_name": "sized_grouped_zc"
          }
        },
        "dx": {
          "dashboard": {
            "multiViews": []
          },
          "fieldMetadata": {},
          "updated": 1701722759007,
          "views": [
            {
              "annotationRules": [],
              "chart": {},
              "chartMode": "empty",
              "confoRules": [],
              "decoration": {
                "footer": "",
                "subtitle": "",
                "title": "New View"
              },
              "facets": [],
              "filterSettings": {
                "SHOW_FILTER_PANEL": true,
                "filters": []
              },
              "id": "8c0806e0-f140-4b74-8bd5-fc5b92d859ab",
              "isDefault": false,
              "type": "public",
              "userID": ""
            },
            {
              "annotationRules": [],
              "chart": {
                "facets": [],
                "pieLabelContents": "name-percent",
                "showTotal": false
              },
              "chartMode": "pie",
              "confoRules": [
                {
                  "colorOpts": {
                    "color": null,
                    "cond": null,
                    "gradient": "Viridis",
                    "max": 17182,
                    "min": 123,
                    "mode": "gradient",
                    "scale": "Linear",
                    "thresholdColors": "blues5",
                    "thresholdValues": [
                      3534.8,
                      6946.6,
                      10358.4,
                      13770.2
                    ]
                  },
                  "columnType": "Metric",
                  "fieldName": "0",
                  "id": "8706582d-e878-4222-a134-b32ad8df3585",
                  "index": 0,
                  "name": ""
                },
                {
                  "colorOpts": {
                    "color": null,
                    "cond": null,
                    "gradient": "Viridis",
                    "max": 17182,
                    "min": 123,
                    "mode": "gradient",
                    "scale": "Linear",
                    "thresholdColors": "blues5",
                    "thresholdValues": [
                      3534.8,
                      6946.6,
                      10358.4,
                      13770.2
                    ]
                  },
                  "columnType": "Metric",
                  "fieldName": "0",
                  "id": "554c19a5-cf0f-46c7-9649-98aab95caf21",
                  "index": 0,
                  "name": ""
                },
                {
                  "colorOpts": {
                    "color": null,
                    "cond": null,
                    "gradient": "Viridis",
                    "max": 19807,
                    "min": 19801,
                    "mode": "gradient",
                    "scale": "Linear",
                    "thresholdColors": "blues5",
                    "thresholdValues": [
                      19802.2,
                      19803.4,
                      19804.6,
                      19805.8
                    ]
                  },
                  "columnType": "Metric",
                  "fieldName": "HOME-ZIPCODE",
                  "id": "ad831853-8944-4b18-a446-13e4c05229a3",
                  "index": 0,
                  "name": ""
                },
                {
                  "colorOpts": {
                    "color": null,
                    "cond": null,
                    "gradient": "Viridis",
                    "max": 19807,
                    "min": 19801,
                    "mode": "threshold",
                    "scale": "Linear",
                    "thresholdColors": "blues5",
                    "thresholdValues": [
                      19802.2,
                      19803.4,
                      19804.6,
                      19805.8
                    ]
                  },
                  "columnType": "Metric",
                  "fieldName": "HOME-ZIPCODE",
                  "id": "d9773849-82c7-4043-ace1-fb7bb6c2724b",
                  "index": 0,
                  "name": ""
                },
                {
                  "colorOpts": {
                    "color": null,
                    "cond": null,
                    "gradient": "Viridis",
                    "max": 17182,
                    "min": 123,
                    "mode": "threshold",
                    "scale": "Linear",
                    "thresholdColors": "blues5",
                    "thresholdValues": [
                      3534.8,
                      6946.6,
                      10358.4,
                      13770.2
                    ]
                  },
                  "columnType": "Metric",
                  "fieldName": "0",
                  "id": "63d78552-2c30-447d-b655-2547d0afa169",
                  "index": 0,
                  "name": ""
                },
                {
                  "colorOpts": {
                    "color": null,
                    "cond": null,
                    "gradient": "Viridis",
                    "max": 17182,
                    "min": 123,
                    "mode": "gradient",
                    "scale": "Linear",
                    "thresholdColors": "blues5",
                    "thresholdValues": [
                      3534.8,
                      6946.6,
                      10358.4,
                      13770.2
                    ]
                  },
                  "columnType": "Metric",
                  "fieldName": "0",
                  "id": "b98faa6e-596e-40a1-9929-8f29ee6bfafc",
                  "index": 0,
                  "name": ""
                },
                {
                  "colorOpts": {
                    "color": null,
                    "cond": null,
                    "gradient": "Viridis",
                    "max": 19807,
                    "min": 19801,
                    "mode": "gradient",
                    "scale": "Linear",
                    "thresholdColors": "blues5",
                    "thresholdValues": [
                      19802.2,
                      19803.4,
                      19804.6,
                      19805.8
                    ]
                  },
                  "columnType": "Metric",
                  "fieldName": "HOME-ZIPCODE",
                  "id": "bf8c4c16-a9c2-434e-8310-574c0295741a",
                  "index": 0,
                  "name": ""
                },
                {
                  "colorOpts": {
                    "color": null,
                    "cond": null,
                    "gradient": "Viridis",
                    "max": 19807,
                    "min": 19801,
                    "mode": "threshold",
                    "scale": "Linear",
                    "thresholdColors": "blues5",
                    "thresholdValues": [
                      19802.2,
                      19803.4,
                      19804.6,
                      19805.8
                    ]
                  },
                  "columnType": "Metric",
                  "fieldName": "HOME-ZIPCODE",
                  "id": "6b56be59-bc32-4176-ab00-19f134b47903",
                  "index": 0,
                  "name": ""
                },
                {
                  "colorOpts": {
                    "color": null,
                    "cond": null,
                    "gradient": "Viridis",
                    "max": 19807,
                    "min": 19801,
                    "mode": "gradient",
                    "scale": "Linear",
                    "thresholdColors": "blues5",
                    "thresholdValues": [
                      19802.2,
                      19803.4,
                      19804.6,
                      19805.8
                    ]
                  },
                  "columnType": "Metric",
                  "fieldName": "HOME-ZIPCODE",
                  "id": "c4fb028d-cd85-4d1f-a6dd-4819b7176990",
                  "index": 0,
                  "name": ""
                }
              ],
              "decoration": {
                "footer": "",
                "subtitle": "",
                "title": "Pie Chart"
              },
              "facets": [],
              "filterSettings": {
                "SHOW_FILTER_PANEL": true,
                "filters": []
              },
              "id": "8c0806e0-f140-4b74-8bd5-fc5b92d859ab",
              "isDefault": false,
              "isTransitory": true,
              "type": "public",
              "userID": ""
            }
          ]
        }
      },
      "outputs": [],
      "source": "sized_grouped_zc = grouped_zc.size()\nsized_grouped_zc",
      "id": "f512f410"
    },
    {
      "cell_type": "markdown",
      "metadata": {
        "tags": [
          "show_line_numbers"
        ]
      },
      "source": [
        "Use a magic command so that matplotlib graphics will display inline."
      ],
      "id": "da35b0ce"
    },
    {
      "cell_type": "code",
      "execution_count": null,
      "metadata": {
        "tags": [
          "show_line_numbers"
        ],
        "noteable": {
          "output_collection_id": "12993783-308f-485e-b3b0-dd0a01f5c1b8"
        },
        "ExecuteTime": {
          "end_time": "2023-12-04T20:33:49.912198+00:00",
          "start_time": "2023-12-04T20:33:49.757417+00:00"
        }
      },
      "outputs": [],
      "source": "%matplotlib inline",
      "id": "70ab1fc0"
    },
    {
      "cell_type": "markdown",
      "metadata": {
        "tags": [
          "show_line_numbers"
        ]
      },
      "source": [
        "Create a pie chart illustrating the number of voters per zip code."
      ],
      "id": "0a020f4d"
    },
    {
      "cell_type": "code",
      "execution_count": null,
      "metadata": {
        "tags": [
          "show_line_numbers"
        ],
        "noteable": {
          "output_collection_id": "9947b8de-e4ee-4d1d-8105-7ae05f6e17ce"
        },
        "ExecuteTime": {
          "end_time": "2023-12-04T20:42:45.007839+00:00",
          "start_time": "2023-12-04T20:42:44.782235+00:00"
        }
      },
      "outputs": [],
      "source": "sized_grouped_zc.plot.pie(y=sized_grouped_zc, autopct='%.1f%%')",
      "id": "8f5390ea"
    },
    {
      "cell_type": "markdown",
      "metadata": {
        "tags": [
          "show_line_numbers"
        ]
      },
      "source": [
        "# YEAR OF BIRTH"
      ],
      "id": "0d09da7c"
    },
    {
      "cell_type": "markdown",
      "metadata": {
        "tags": [
          "show_line_numbers"
        ]
      },
      "source": [
        "Group objects by the YEAR-OF-BIRTH column. Assign the value to an object called \"grouped_yob\"."
      ],
      "id": "f557d7db"
    },
    {
      "cell_type": "code",
      "execution_count": null,
      "metadata": {
        "tags": [
          "show_line_numbers"
        ],
        "noteable": {
          "output_collection_id": "173c993f-4f74-4d4b-b299-9f518e2c17a5"
        },
        "ExecuteTime": {
          "end_time": "2023-12-04T21:02:28.775051+00:00",
          "start_time": "2023-12-04T21:02:28.620520+00:00"
        }
      },
      "outputs": [],
      "source": "grouped_yob = df.groupby(\"YEAR-OF-BIRTH\") ",
      "id": "414e72ac"
    },
    {
      "cell_type": "markdown",
      "metadata": {
        "tags": [
          "show_line_numbers"
        ]
      },
      "source": [
        "Display the value of the groups attribute belonging the grouped_yob object."
      ],
      "id": "ba26e66e"
    },
    {
      "cell_type": "code",
      "execution_count": null,
      "metadata": {
        "tags": [
          "show_line_numbers"
        ],
        "noteable": {
          "output_collection_id": "faf6249c-e497-4b09-ba7a-ab05883778e1"
        },
        "ExecuteTime": {
          "end_time": "2023-12-04T21:04:01.617261+00:00",
          "start_time": "2023-12-04T21:04:01.434560+00:00"
        }
      },
      "outputs": [],
      "source": "grouped_yob.groups",
      "id": "5fa1c0ed"
    },
    {
      "cell_type": "markdown",
      "metadata": {
        "tags": [
          "show_line_numbers"
        ]
      },
      "source": [
        "Select the object for the row indicating that the voter was born in 1900."
      ],
      "id": "40b852c6"
    },
    {
      "cell_type": "code",
      "execution_count": null,
      "metadata": {
        "tags": [
          "show_line_numbers"
        ],
        "noteable": {
          "output_collection_id": "bea5d06e-619e-45cb-b4b0-a83ab7406215"
        },
        "ExecuteTime": {
          "end_time": "2023-12-04T21:26:52.108081+00:00",
          "start_time": "2023-12-04T21:26:50.919551+00:00"
        },
        "datalink": {
          "0d42d7f6-daa6-4ce9-88c8-94ffda5de250": {
            "applied_filters": [],
            "dataframe_info": {
              "default_index_used": true,
              "orig_num_cols": 54,
              "orig_num_rows": 1,
              "orig_size_bytes": 440,
              "truncated_num_cols": 54,
              "truncated_num_rows": 1,
              "truncated_size_bytes": 440,
              "truncated_string_columns": []
            },
            "display_id": "0d42d7f6-daa6-4ce9-88c8-94ffda5de250",
            "dx_settings": {
              "ALLOW_NOTEABLE_ATTRS": true,
              "COLUMN_SAMPLING_METHOD": "outer",
              "DB_LOCATION": ":memory:",
              "DEV_MODE": false,
              "DISPLAY_MAX_COLUMNS": 100,
              "DISPLAY_MAX_ROWS": 50000,
              "DISPLAY_MODE": "simple",
              "ENABLE_ASSIGNMENT": true,
              "ENABLE_DATALINK": true,
              "FLATTEN_COLUMN_VALUES": true,
              "FLATTEN_INDEX_VALUES": false,
              "GENERATE_DEX_METADATA": false,
              "HTML_TABLE_SCHEMA": false,
              "LOG_LEVEL": 30,
              "MAX_RENDER_SIZE_BYTES": 104857600,
              "MAX_STRING_LENGTH": 250,
              "NUM_PAST_SAMPLES_TRACKED": 3,
              "RANDOM_STATE": 12648430,
              "RESET_INDEX_VALUES": false,
              "ROW_SAMPLING_METHOD": "random",
              "SAMPLING_FACTOR": 0.1,
              "SAMPLING_METHOD": "random",
              "STRINGIFY_COLUMN_VALUES": true,
              "STRINGIFY_INDEX_VALUES": false
            },
            "sample_history": [],
            "sampling_time": "2023-12-04T21:26:51.938977",
            "user_variable_name": null,
            "variable_name": "unk_dataframe_2160386f9d844a73bb060d73df03c192"
          }
        }
      },
      "outputs": [],
      "source": "grouped_yob.get_group(1900)",
      "id": "a80aeb85"
    },
    {
      "cell_type": "markdown",
      "metadata": {
        "tags": [
          "show_line_numbers"
        ]
      },
      "source": [
        "Graph a histogram to  illustrate the age distribution of voters in this dataset. Ty using different values for the bins attribute of the histogram. "
      ],
      "id": "388710be"
    },
    {
      "cell_type": "code",
      "execution_count": null,
      "metadata": {
        "tags": [
          "show_line_numbers"
        ],
        "noteable": {
          "output_collection_id": "404dea30-1be0-44a0-b1b2-80de9332e39a"
        },
        "ExecuteTime": {
          "end_time": "2023-12-04T21:51:37.756688+00:00",
          "start_time": "2023-12-04T21:51:37.586743+00:00"
        }
      },
      "outputs": [],
      "source": "df.plot.groupby().hist()",
      "id": "96cf4833"
    },
    {
      "cell_type": "markdown",
      "metadata": {
        "tags": [
          "show_line_numbers"
        ]
      },
      "source": [
        "# PARTY"
      ],
      "id": "e13510c7"
    },
    {
      "cell_type": "markdown",
      "metadata": {
        "tags": [
          "show_line_numbers"
        ]
      },
      "source": [
        "Group objects using the PARTY column. Assign the value to a variable called grouped_p."
      ],
      "id": "fffb1f0f"
    },
    {
      "cell_type": "code",
      "execution_count": null,
      "metadata": {
        "tags": [
          "show_line_numbers"
        ],
        "noteable": {
          "output_collection_id": "77dccbd0-18ff-4ae3-8152-150b8cb7430d"
        },
        "ExecuteTime": {
          "end_time": "2023-12-04T21:36:29.444819+00:00",
          "start_time": "2023-12-04T21:36:29.290071+00:00"
        }
      },
      "outputs": [],
      "source": "group_p = df.groupby(\"PARTY\")",
      "id": "bef65687"
    },
    {
      "cell_type": "markdown",
      "metadata": {
        "tags": [
          "show_line_numbers"
        ]
      },
      "source": [
        "Display the value of the groups attribute belonging to the grouped_p object."
      ],
      "id": "ca6991ae"
    },
    {
      "cell_type": "code",
      "execution_count": null,
      "metadata": {
        "tags": [
          "show_line_numbers"
        ]
      },
      "outputs": [],
      "source": "grouped_p.groups",
      "id": "1195df08"
    },
    {
      "cell_type": "markdown",
      "metadata": {
        "tags": [
          "show_line_numbers"
        ]
      },
      "source": [
        "Invoke the size method on the grouped_p object to find out how many items are associated with each party."
      ],
      "id": "179363cd"
    },
    {
      "cell_type": "code",
      "execution_count": null,
      "metadata": {
        "scrolled": true,
        "tags": [
          "show_line_numbers"
        ]
      },
      "outputs": [],
      "source": [
        "# "
      ],
      "id": "8b849e49"
    },
    {
      "cell_type": "markdown",
      "metadata": {
        "tags": [
          "show_line_numbers"
        ]
      },
      "source": [
        "Create a bar chart to visualize the number of voters associated with each party."
      ],
      "id": "dd77147d"
    },
    {
      "cell_type": "code",
      "execution_count": null,
      "metadata": {
        "tags": [
          "show_line_numbers"
        ]
      },
      "outputs": [],
      "source": [
        "# "
      ],
      "id": "3daa13c0"
    },
    {
      "cell_type": "markdown",
      "metadata": {
        "tags": [
          "show_line_numbers"
        ]
      },
      "source": [
        "# Merging Two DataFrames"
      ],
      "id": "f1cb51af"
    },
    {
      "cell_type": "markdown",
      "metadata": {
        "tags": [
          "show_line_numbers"
        ]
      },
      "source": [
        "Using the data from the documentation, create a Pandas DataFrame that contains the party code and the corresponding legal name for each party."
      ],
      "id": "cc8c4c53"
    },
    {
      "cell_type": "code",
      "execution_count": null,
      "metadata": {
        "tags": [
          "show_line_numbers"
        ]
      },
      "outputs": [],
      "source": [
        "# legal_names = {}"
      ],
      "id": "ccda33eb"
    },
    {
      "cell_type": "code",
      "execution_count": null,
      "metadata": {
        "tags": [
          "show_line_numbers"
        ]
      },
      "outputs": [],
      "source": [
        "# df_legal_names = pd.DataFrame(legal_names)"
      ],
      "id": "7a028d65"
    },
    {
      "cell_type": "code",
      "execution_count": null,
      "metadata": {
        "tags": [
          "show_line_numbers"
        ]
      },
      "outputs": [],
      "source": [
        "# df_legal_names"
      ],
      "id": "541c2953"
    },
    {
      "cell_type": "markdown",
      "metadata": {
        "tags": [
          "show_line_numbers"
        ]
      },
      "source": [
        "Create a Pandas DataFrame that contains the Party code and the corresponding number of registered voters for said party."
      ],
      "id": "22d15d31"
    },
    {
      "cell_type": "code",
      "execution_count": null,
      "metadata": {
        "tags": [
          "show_line_numbers"
        ]
      },
      "outputs": [],
      "source": [
        "# Create DataFrame df_party_counts here "
      ],
      "id": "b9819eac"
    },
    {
      "cell_type": "code",
      "execution_count": null,
      "metadata": {
        "tags": [
          "show_line_numbers"
        ]
      },
      "outputs": [],
      "source": [
        "# df_party_counts "
      ],
      "id": "c163d5c0"
    },
    {
      "cell_type": "markdown",
      "metadata": {
        "tags": [
          "show_line_numbers"
        ]
      },
      "source": [
        "Merge the two DataFrames."
      ],
      "id": "cceb5126"
    },
    {
      "cell_type": "code",
      "execution_count": null,
      "metadata": {
        "tags": [
          "show_line_numbers"
        ]
      },
      "outputs": [],
      "source": [
        "# Merge DataFrame here "
      ],
      "id": "e94294c2"
    },
    {
      "cell_type": "code",
      "execution_count": null,
      "metadata": {
        "tags": [
          "show_line_numbers"
        ]
      },
      "outputs": [],
      "source": [
        "# Display new DataFrame here "
      ],
      "id": "be5c324c"
    },
    {
      "cell_type": "markdown",
      "metadata": {
        "tags": [
          "show_line_numbers"
        ]
      },
      "source": [
        "Create a bar graph again but using the legal name for each party as the value on the x axes."
      ],
      "id": "0c7c67b1"
    },
    {
      "cell_type": "code",
      "execution_count": null,
      "metadata": {
        "tags": [
          "show_line_numbers"
        ]
      },
      "outputs": [],
      "source": [
        "# "
      ],
      "id": "6bc91209"
    }
  ],
  "metadata": {
    "kernelspec": {
      "display_name": "Python 3.9",
      "identifier": "legacy",
      "language": "python",
      "language_version": "3.9",
      "name": "python3"
    },
    "language_info": {
      "codemirror_mode": {
        "name": "ipython",
        "version": 3
      },
      "file_extension": ".py",
      "mimetype": "text/x-python",
      "name": "python",
      "nbconvert_exporter": "python",
      "pygments_lexer": "ipython3",
      "version": "3.7.4"
    },
    "selected_hardware_size": "small",
    "kernel_info": {
      "name": "python3"
    }
  },
  "nbformat": 4,
  "nbformat_minor": 5
}