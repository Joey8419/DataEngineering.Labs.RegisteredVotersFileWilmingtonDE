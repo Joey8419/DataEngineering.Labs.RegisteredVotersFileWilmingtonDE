{
  "cells": [
    {
      "cell_type": "markdown",
      "metadata": {},
      "source": [
        "Import numpy and pandas."
      ],
      "id": "a88bb743"
    },
    {
      "cell_type": "code",
      "execution_count": null,
      "metadata": {
        "noteable": {
          "output_collection_id": "abfc15b9-d1f5-42fa-aad5-45a55b46ba15"
        },
        "ExecuteTime": {
          "end_time": "2023-12-04T19:12:18.783975+00:00",
          "start_time": "2023-12-04T19:12:18.628610+00:00"
        }
      },
      "outputs": [],
      "source": [
        "import pandas as pd\n",
        "import numpy as np"
      ],
      "id": "535ace82"
    },
    {
      "cell_type": "markdown",
      "metadata": {},
      "source": [
        "Using the bash magic command, view the list of files inside of the data directory."
      ],
      "id": "9969e647"
    },
    {
      "cell_type": "code",
      "execution_count": null,
      "metadata": {
        "noteable": {
          "output_collection_id": "40296c8f-1d96-422a-a30d-254a584c9306"
        },
        "ExecuteTime": {
          "end_time": "2023-12-04T19:14:18.764342+00:00",
          "start_time": "2023-12-04T19:14:18.599187+00:00"
        }
      },
      "outputs": [],
      "source": "%%bash\ncd data\nls",
      "id": "184ebece"
    },
    {
      "cell_type": "markdown",
      "metadata": {},
      "source": [
        "Load the csv file into a Pandas DataFrame."
      ],
      "id": "41b9a732"
    },
    {
      "cell_type": "code",
      "execution_count": null,
      "metadata": {},
      "outputs": [],
      "source": [
        "# "
      ],
      "id": "b64be00f"
    },
    {
      "cell_type": "markdown",
      "metadata": {},
      "source": [
        "Display a list of columns in the DataFrame."
      ],
      "id": "57a895c7"
    },
    {
      "cell_type": "code",
      "execution_count": null,
      "metadata": {},
      "outputs": [],
      "source": [
        "# "
      ],
      "id": "66f385fa"
    },
    {
      "cell_type": "markdown",
      "metadata": {},
      "source": [
        "What is the shape of this DataFrame? How many columns does each row have? How many rows are there?"
      ],
      "id": "8815c58f"
    },
    {
      "cell_type": "code",
      "execution_count": null,
      "metadata": {},
      "outputs": [],
      "source": [
        "# "
      ],
      "id": "b99820e7"
    },
    {
      "cell_type": "markdown",
      "metadata": {},
      "source": [
        "# HOME ZIP CODE"
      ],
      "id": "69499ff8"
    },
    {
      "cell_type": "markdown",
      "metadata": {},
      "source": [
        "Group objects using the HOME-ZIPCODE column. Assign the value to a variable called grouped_zc.  \n",
        "[Pandas Groupby User Guide](https://pandas.pydata.org/pandas-docs/stable/user_guide/groupby.html)"
      ],
      "id": "dc674235"
    },
    {
      "cell_type": "code",
      "execution_count": null,
      "metadata": {},
      "outputs": [],
      "source": [
        "# "
      ],
      "id": "faa1f609"
    },
    {
      "cell_type": "markdown",
      "metadata": {},
      "source": [
        "What type of object is grouped_zc?"
      ],
      "id": "a11554c3"
    },
    {
      "cell_type": "code",
      "execution_count": null,
      "metadata": {},
      "outputs": [],
      "source": [
        "# "
      ],
      "id": "d5593f4d"
    },
    {
      "cell_type": "markdown",
      "metadata": {},
      "source": [
        "DataFrameGroupBy objects contain a groups attribute. Display the value of the groups attribute belonging to the grouped_zc object."
      ],
      "id": "2afd50a3"
    },
    {
      "cell_type": "code",
      "execution_count": null,
      "metadata": {},
      "outputs": [],
      "source": [
        "# "
      ],
      "id": "cd565391"
    },
    {
      "cell_type": "markdown",
      "metadata": {},
      "source": [
        "Invoke the size method on the grouped_zc object to find out how many items are associated with each zip code."
      ],
      "id": "649e3d92"
    },
    {
      "cell_type": "code",
      "execution_count": null,
      "metadata": {},
      "outputs": [],
      "source": [
        "# "
      ],
      "id": "f512f410"
    },
    {
      "cell_type": "markdown",
      "metadata": {},
      "source": [
        "Use a magic command so that matplotlib graphics will display inline."
      ],
      "id": "da35b0ce"
    },
    {
      "cell_type": "code",
      "execution_count": null,
      "metadata": {},
      "outputs": [],
      "source": [
        "# "
      ],
      "id": "70ab1fc0"
    },
    {
      "cell_type": "markdown",
      "metadata": {},
      "source": [
        "Create a pie chart illustrating the number of voters per zip code."
      ],
      "id": "0a020f4d"
    },
    {
      "cell_type": "code",
      "execution_count": null,
      "metadata": {},
      "outputs": [],
      "source": [
        "# "
      ],
      "id": "8f5390ea"
    },
    {
      "cell_type": "markdown",
      "metadata": {},
      "source": [
        "# YEAR OF BIRTH"
      ],
      "id": "0d09da7c"
    },
    {
      "cell_type": "markdown",
      "metadata": {},
      "source": [
        "Group objects by the YEAR-OF-BIRTH column. Assign the value to an object called \"grouped_yob\"."
      ],
      "id": "f557d7db"
    },
    {
      "cell_type": "code",
      "execution_count": null,
      "metadata": {},
      "outputs": [],
      "source": [
        "# "
      ],
      "id": "414e72ac"
    },
    {
      "cell_type": "markdown",
      "metadata": {},
      "source": [
        "Display the value of the groups attribute belonging the grouped_yob object."
      ],
      "id": "ba26e66e"
    },
    {
      "cell_type": "code",
      "execution_count": null,
      "metadata": {},
      "outputs": [],
      "source": [
        "# "
      ],
      "id": "5fa1c0ed"
    },
    {
      "cell_type": "markdown",
      "metadata": {},
      "source": [
        "Select the object for the row indicating that the voter was born in 1900."
      ],
      "id": "40b852c6"
    },
    {
      "cell_type": "code",
      "execution_count": null,
      "metadata": {},
      "outputs": [],
      "source": [
        "# "
      ],
      "id": "a80aeb85"
    },
    {
      "cell_type": "markdown",
      "metadata": {},
      "source": [
        "Graph a histogram to  illustrate the age distribution of voters in this dataset. Ty using different values for the bins attribute of the histogram. "
      ],
      "id": "388710be"
    },
    {
      "cell_type": "code",
      "execution_count": null,
      "metadata": {},
      "outputs": [],
      "source": [
        "# "
      ],
      "id": "96cf4833"
    },
    {
      "cell_type": "markdown",
      "metadata": {},
      "source": [
        "# PARTY"
      ],
      "id": "e13510c7"
    },
    {
      "cell_type": "markdown",
      "metadata": {},
      "source": [
        "Group objects using the PARTY column. Assign the value to a variable called grouped_p."
      ],
      "id": "fffb1f0f"
    },
    {
      "cell_type": "code",
      "execution_count": null,
      "metadata": {},
      "outputs": [],
      "source": [
        "# "
      ],
      "id": "bef65687"
    },
    {
      "cell_type": "markdown",
      "metadata": {},
      "source": [
        "Display the value of the groups attribute belonging to the grouped_p object."
      ],
      "id": "ca6991ae"
    },
    {
      "cell_type": "code",
      "execution_count": null,
      "metadata": {},
      "outputs": [],
      "source": [
        "# "
      ],
      "id": "1195df08"
    },
    {
      "cell_type": "markdown",
      "metadata": {},
      "source": [
        "Invoke the size method on the grouped_p object to find out how many items are associated with each party."
      ],
      "id": "179363cd"
    },
    {
      "cell_type": "code",
      "execution_count": null,
      "metadata": {
        "scrolled": true
      },
      "outputs": [],
      "source": [
        "# "
      ],
      "id": "8b849e49"
    },
    {
      "cell_type": "markdown",
      "metadata": {},
      "source": [
        "Create a bar chart to visualize the number of voters associated with each party."
      ],
      "id": "dd77147d"
    },
    {
      "cell_type": "code",
      "execution_count": null,
      "metadata": {},
      "outputs": [],
      "source": [
        "# "
      ],
      "id": "3daa13c0"
    },
    {
      "cell_type": "markdown",
      "metadata": {},
      "source": [
        "# Merging Two DataFrames"
      ],
      "id": "f1cb51af"
    },
    {
      "cell_type": "markdown",
      "metadata": {},
      "source": [
        "Using the data from the documentation, create a Pandas DataFrame that contains the party code and the corresponding legal name for each party."
      ],
      "id": "cc8c4c53"
    },
    {
      "cell_type": "code",
      "execution_count": null,
      "metadata": {},
      "outputs": [],
      "source": [
        "# legal_names = {}"
      ],
      "id": "ccda33eb"
    },
    {
      "cell_type": "code",
      "execution_count": null,
      "metadata": {},
      "outputs": [],
      "source": [
        "# df_legal_names = pd.DataFrame(legal_names)"
      ],
      "id": "7a028d65"
    },
    {
      "cell_type": "code",
      "execution_count": null,
      "metadata": {},
      "outputs": [],
      "source": [
        "# df_legal_names"
      ],
      "id": "541c2953"
    },
    {
      "cell_type": "markdown",
      "metadata": {},
      "source": [
        "Create a Pandas DataFrame that contains the Party code and the corresponding number of registered voters for said party."
      ],
      "id": "22d15d31"
    },
    {
      "cell_type": "code",
      "execution_count": null,
      "metadata": {},
      "outputs": [],
      "source": [
        "# Create DataFrame df_party_counts here "
      ],
      "id": "b9819eac"
    },
    {
      "cell_type": "code",
      "execution_count": null,
      "metadata": {},
      "outputs": [],
      "source": [
        "# df_party_counts "
      ],
      "id": "c163d5c0"
    },
    {
      "cell_type": "markdown",
      "metadata": {},
      "source": [
        "Merge the two DataFrames."
      ],
      "id": "cceb5126"
    },
    {
      "cell_type": "code",
      "execution_count": null,
      "metadata": {},
      "outputs": [],
      "source": [
        "# Merge DataFrame here "
      ],
      "id": "e94294c2"
    },
    {
      "cell_type": "code",
      "execution_count": null,
      "metadata": {},
      "outputs": [],
      "source": [
        "# Display new DataFrame here "
      ],
      "id": "be5c324c"
    },
    {
      "cell_type": "markdown",
      "metadata": {},
      "source": [
        "Create a bar graph again but using the legal name for each party as the value on the x axes."
      ],
      "id": "0c7c67b1"
    },
    {
      "cell_type": "code",
      "execution_count": null,
      "metadata": {},
      "outputs": [],
      "source": [
        "# "
      ],
      "id": "6bc91209"
    }
  ],
  "metadata": {
    "kernelspec": {
      "display_name": "Python 3.9",
      "identifier": "legacy",
      "language": "python",
      "language_version": "3.9",
      "name": "python3"
    },
    "language_info": {
      "codemirror_mode": {
        "name": "ipython",
        "version": 3
      },
      "file_extension": ".py",
      "mimetype": "text/x-python",
      "name": "python",
      "nbconvert_exporter": "python",
      "pygments_lexer": "ipython3",
      "version": "3.7.4"
    },
    "selected_hardware_size": "small",
    "kernel_info": {
      "name": "python3"
    }
  },
  "nbformat": 4,
  "nbformat_minor": 5
}